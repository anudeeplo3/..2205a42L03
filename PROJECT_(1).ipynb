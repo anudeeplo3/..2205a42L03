{
  "nbformat": 4,
  "nbformat_minor": 0,
  "metadata": {
    "colab": {
      "provenance": [],
      "history_visible": true,
      "include_colab_link": true
    },
    "kernelspec": {
      "name": "python3",
      "display_name": "Python 3"
    },
    "language_info": {
      "name": "python"
    }
  },
  "cells": [
    {
      "cell_type": "markdown",
      "metadata": {
        "id": "view-in-github",
        "colab_type": "text"
      },
      "source": [
        "<a href=\"https://colab.research.google.com/github/anudeeplo3/..2205a42L03/blob/main/PROJECT_(1).ipynb\" target=\"_parent\"><img src=\"https://colab.research.google.com/assets/colab-badge.svg\" alt=\"Open In Colab\"/></a>"
      ]
    },
    {
      "cell_type": "markdown",
      "source": [
        "**IMPORTING LIBRARIES**"
      ],
      "metadata": {
        "id": "4JUFmSwWphRG"
      }
    },
    {
      "cell_type": "code",
      "source": [
        "import numpy as np\n",
        "import pandas as pd\n",
        "import matplotlib.pyplot as plt"
      ],
      "metadata": {
        "id": "_OXv3VaIpoAJ"
      },
      "execution_count": 5,
      "outputs": []
    },
    {
      "cell_type": "markdown",
      "source": [
        "**MOUNTING GOOGLE DRIVE**"
      ],
      "metadata": {
        "id": "FBZKAW4Wo-3m"
      }
    },
    {
      "cell_type": "code",
      "source": [
        "from google.colab import drive\n",
        "drive.mount('/content/drive')"
      ],
      "metadata": {
        "colab": {
          "base_uri": "https://localhost:8080/"
        },
        "id": "fKVR5XT4FSc4",
        "outputId": "d60ada99-7672-4987-b04f-46560b73ea5b"
      },
      "execution_count": 6,
      "outputs": [
        {
          "output_type": "stream",
          "name": "stdout",
          "text": [
            "Drive already mounted at /content/drive; to attempt to forcibly remount, call drive.mount(\"/content/drive\", force_remount=True).\n"
          ]
        }
      ]
    },
    {
      "cell_type": "markdown",
      "source": [
        "**LOAD DATA**"
      ],
      "metadata": {
        "id": "3uYU25cbp1mn"
      }
    },
    {
      "cell_type": "code",
      "source": [
        "from google.colab import drive\n",
        "data = pd.read_csv(\"/content/drive/MyDrive/Data\")"
      ],
      "metadata": {
        "id": "t25OrKjmpH6B"
      },
      "execution_count": 7,
      "outputs": []
    },
    {
      "cell_type": "code",
      "source": [
        "data.head()"
      ],
      "metadata": {
        "colab": {
          "base_uri": "https://localhost:8080/",
          "height": 320
        },
        "id": "Z_RPmhfKp_bg",
        "outputId": "fd8f4195-202a-4b2a-d088-d64dcecc2386"
      },
      "execution_count": null,
      "outputs": [
        {
          "output_type": "execute_result",
          "data": {
            "text/plain": [
              "                        Car CAR AGE BELOW 10 YRS  selling price  Km driven  \\\n",
              "0             Maruti 800 AC                  yes          60000      70000   \n",
              "1  Maruti Wagon R LXI Minor                  yes         135000      50000   \n",
              "2      Hyundai Verna 1.6 SX                  yes         600000     100000   \n",
              "3    Datsun RediGO T Option                  yes         250000      46000   \n",
              "4     Honda Amaze VX i-DTEC                  yes         450000     141000   \n",
              "\n",
              "  fuel type seller type transmission single owner  \n",
              "0    Petrol  Individual       Manual          yes  \n",
              "1    Petrol  Individual       Manual          yes  \n",
              "2    Diesel  Individual       Manual          yes  \n",
              "3    Petrol  Individual       Manual          yes  \n",
              "4    Diesel  Individual       Manual           No  "
            ],
            "text/html": [
              "\n",
              "  <div id=\"df-4ac34221-8d12-460e-8abd-aa50c1f2e442\">\n",
              "    <div class=\"colab-df-container\">\n",
              "      <div>\n",
              "<style scoped>\n",
              "    .dataframe tbody tr th:only-of-type {\n",
              "        vertical-align: middle;\n",
              "    }\n",
              "\n",
              "    .dataframe tbody tr th {\n",
              "        vertical-align: top;\n",
              "    }\n",
              "\n",
              "    .dataframe thead th {\n",
              "        text-align: right;\n",
              "    }\n",
              "</style>\n",
              "<table border=\"1\" class=\"dataframe\">\n",
              "  <thead>\n",
              "    <tr style=\"text-align: right;\">\n",
              "      <th></th>\n",
              "      <th>Car</th>\n",
              "      <th>CAR AGE BELOW 10 YRS</th>\n",
              "      <th>selling price</th>\n",
              "      <th>Km driven</th>\n",
              "      <th>fuel type</th>\n",
              "      <th>seller type</th>\n",
              "      <th>transmission</th>\n",
              "      <th>single owner</th>\n",
              "    </tr>\n",
              "  </thead>\n",
              "  <tbody>\n",
              "    <tr>\n",
              "      <th>0</th>\n",
              "      <td>Maruti 800 AC</td>\n",
              "      <td>yes</td>\n",
              "      <td>60000</td>\n",
              "      <td>70000</td>\n",
              "      <td>Petrol</td>\n",
              "      <td>Individual</td>\n",
              "      <td>Manual</td>\n",
              "      <td>yes</td>\n",
              "    </tr>\n",
              "    <tr>\n",
              "      <th>1</th>\n",
              "      <td>Maruti Wagon R LXI Minor</td>\n",
              "      <td>yes</td>\n",
              "      <td>135000</td>\n",
              "      <td>50000</td>\n",
              "      <td>Petrol</td>\n",
              "      <td>Individual</td>\n",
              "      <td>Manual</td>\n",
              "      <td>yes</td>\n",
              "    </tr>\n",
              "    <tr>\n",
              "      <th>2</th>\n",
              "      <td>Hyundai Verna 1.6 SX</td>\n",
              "      <td>yes</td>\n",
              "      <td>600000</td>\n",
              "      <td>100000</td>\n",
              "      <td>Diesel</td>\n",
              "      <td>Individual</td>\n",
              "      <td>Manual</td>\n",
              "      <td>yes</td>\n",
              "    </tr>\n",
              "    <tr>\n",
              "      <th>3</th>\n",
              "      <td>Datsun RediGO T Option</td>\n",
              "      <td>yes</td>\n",
              "      <td>250000</td>\n",
              "      <td>46000</td>\n",
              "      <td>Petrol</td>\n",
              "      <td>Individual</td>\n",
              "      <td>Manual</td>\n",
              "      <td>yes</td>\n",
              "    </tr>\n",
              "    <tr>\n",
              "      <th>4</th>\n",
              "      <td>Honda Amaze VX i-DTEC</td>\n",
              "      <td>yes</td>\n",
              "      <td>450000</td>\n",
              "      <td>141000</td>\n",
              "      <td>Diesel</td>\n",
              "      <td>Individual</td>\n",
              "      <td>Manual</td>\n",
              "      <td>No</td>\n",
              "    </tr>\n",
              "  </tbody>\n",
              "</table>\n",
              "</div>\n",
              "      <button class=\"colab-df-convert\" onclick=\"convertToInteractive('df-4ac34221-8d12-460e-8abd-aa50c1f2e442')\"\n",
              "              title=\"Convert this dataframe to an interactive table.\"\n",
              "              style=\"display:none;\">\n",
              "        \n",
              "  <svg xmlns=\"http://www.w3.org/2000/svg\" height=\"24px\"viewBox=\"0 0 24 24\"\n",
              "       width=\"24px\">\n",
              "    <path d=\"M0 0h24v24H0V0z\" fill=\"none\"/>\n",
              "    <path d=\"M18.56 5.44l.94 2.06.94-2.06 2.06-.94-2.06-.94-.94-2.06-.94 2.06-2.06.94zm-11 1L8.5 8.5l.94-2.06 2.06-.94-2.06-.94L8.5 2.5l-.94 2.06-2.06.94zm10 10l.94 2.06.94-2.06 2.06-.94-2.06-.94-.94-2.06-.94 2.06-2.06.94z\"/><path d=\"M17.41 7.96l-1.37-1.37c-.4-.4-.92-.59-1.43-.59-.52 0-1.04.2-1.43.59L10.3 9.45l-7.72 7.72c-.78.78-.78 2.05 0 2.83L4 21.41c.39.39.9.59 1.41.59.51 0 1.02-.2 1.41-.59l7.78-7.78 2.81-2.81c.8-.78.8-2.07 0-2.86zM5.41 20L4 18.59l7.72-7.72 1.47 1.35L5.41 20z\"/>\n",
              "  </svg>\n",
              "      </button>\n",
              "      \n",
              "  <style>\n",
              "    .colab-df-container {\n",
              "      display:flex;\n",
              "      flex-wrap:wrap;\n",
              "      gap: 12px;\n",
              "    }\n",
              "\n",
              "    .colab-df-convert {\n",
              "      background-color: #E8F0FE;\n",
              "      border: none;\n",
              "      border-radius: 50%;\n",
              "      cursor: pointer;\n",
              "      display: none;\n",
              "      fill: #1967D2;\n",
              "      height: 32px;\n",
              "      padding: 0 0 0 0;\n",
              "      width: 32px;\n",
              "    }\n",
              "\n",
              "    .colab-df-convert:hover {\n",
              "      background-color: #E2EBFA;\n",
              "      box-shadow: 0px 1px 2px rgba(60, 64, 67, 0.3), 0px 1px 3px 1px rgba(60, 64, 67, 0.15);\n",
              "      fill: #174EA6;\n",
              "    }\n",
              "\n",
              "    [theme=dark] .colab-df-convert {\n",
              "      background-color: #3B4455;\n",
              "      fill: #D2E3FC;\n",
              "    }\n",
              "\n",
              "    [theme=dark] .colab-df-convert:hover {\n",
              "      background-color: #434B5C;\n",
              "      box-shadow: 0px 1px 3px 1px rgba(0, 0, 0, 0.15);\n",
              "      filter: drop-shadow(0px 1px 2px rgba(0, 0, 0, 0.3));\n",
              "      fill: #FFFFFF;\n",
              "    }\n",
              "  </style>\n",
              "\n",
              "      <script>\n",
              "        const buttonEl =\n",
              "          document.querySelector('#df-4ac34221-8d12-460e-8abd-aa50c1f2e442 button.colab-df-convert');\n",
              "        buttonEl.style.display =\n",
              "          google.colab.kernel.accessAllowed ? 'block' : 'none';\n",
              "\n",
              "        async function convertToInteractive(key) {\n",
              "          const element = document.querySelector('#df-4ac34221-8d12-460e-8abd-aa50c1f2e442');\n",
              "          const dataTable =\n",
              "            await google.colab.kernel.invokeFunction('convertToInteractive',\n",
              "                                                     [key], {});\n",
              "          if (!dataTable) return;\n",
              "\n",
              "          const docLinkHtml = 'Like what you see? Visit the ' +\n",
              "            '<a target=\"_blank\" href=https://colab.research.google.com/notebooks/data_table.ipynb>data table notebook</a>'\n",
              "            + ' to learn more about interactive tables.';\n",
              "          element.innerHTML = '';\n",
              "          dataTable['output_type'] = 'display_data';\n",
              "          await google.colab.output.renderOutput(dataTable, element);\n",
              "          const docLink = document.createElement('div');\n",
              "          docLink.innerHTML = docLinkHtml;\n",
              "          element.appendChild(docLink);\n",
              "        }\n",
              "      </script>\n",
              "    </div>\n",
              "  </div>\n",
              "  "
            ]
          },
          "metadata": {},
          "execution_count": 166
        }
      ]
    },
    {
      "cell_type": "markdown",
      "source": [
        "As the Name of the games doesn't really effect our predictions, we can safely remove them."
      ],
      "metadata": {
        "id": "jSIzAnxVD92J"
      }
    },
    {
      "cell_type": "code",
      "source": [
        "data = data.drop(labels='Car', axis=1)"
      ],
      "metadata": {
        "id": "8-tpiKiLs704"
      },
      "execution_count": 8,
      "outputs": []
    },
    {
      "cell_type": "markdown",
      "source": [
        "CHECKING FOR NULL VALUES"
      ],
      "metadata": {
        "id": "TkUuKfeSqXCB"
      }
    },
    {
      "cell_type": "code",
      "source": [
        "data.info()"
      ],
      "metadata": {
        "colab": {
          "base_uri": "https://localhost:8080/"
        },
        "id": "9Px6HYFmqfix",
        "outputId": "80705bc1-ba69-46de-9eec-c3401981a213"
      },
      "execution_count": 9,
      "outputs": [
        {
          "output_type": "stream",
          "name": "stdout",
          "text": [
            "<class 'pandas.core.frame.DataFrame'>\n",
            "RangeIndex: 97 entries, 0 to 96\n",
            "Data columns (total 7 columns):\n",
            " #   Column                Non-Null Count  Dtype \n",
            "---  ------                --------------  ----- \n",
            " 0   CAR AGE BELOW 10 YRS  97 non-null     object\n",
            " 1   selling price         97 non-null     int64 \n",
            " 2   Km driven             97 non-null     int64 \n",
            " 3   fuel type             97 non-null     object\n",
            " 4   seller type           97 non-null     object\n",
            " 5   transmission          97 non-null     object\n",
            " 6   single owner          97 non-null     object\n",
            "dtypes: int64(2), object(5)\n",
            "memory usage: 5.4+ KB\n"
          ]
        }
      ]
    },
    {
      "cell_type": "code",
      "source": [
        "print(data.describe())"
      ],
      "metadata": {
        "colab": {
          "base_uri": "https://localhost:8080/"
        },
        "id": "Uh108HWOqtIB",
        "outputId": "4fe3f768-691d-4154-fb54-8bfef804bef5"
      },
      "execution_count": 10,
      "outputs": [
        {
          "output_type": "stream",
          "name": "stdout",
          "text": [
            "       selling price      Km driven\n",
            "count   9.700000e+01      97.000000\n",
            "mean    6.630103e+05   66477.546392\n",
            "std     9.138814e+05   50959.503995\n",
            "min     6.000000e+04    4500.000000\n",
            "25%     2.500000e+05   31000.000000\n",
            "50%     4.500000e+05   60000.000000\n",
            "75%     7.500000e+05   80000.000000\n",
            "max     8.150000e+06  350000.000000\n"
          ]
        }
      ]
    },
    {
      "cell_type": "markdown",
      "source": [
        "**Binary Conversion**"
      ],
      "metadata": {
        "id": "IlPGW3chq5F4"
      }
    },
    {
      "cell_type": "code",
      "source": [
        "varlist =  ['CAR AGE BELOW 10 YRS']\n",
        "def binary_map(x):\n",
        "    return x.map({'yes': 1, 'No': 0})\n",
        "data[varlist] = data[varlist].apply(binary_map)\n",
        "\n",
        "varlist1 =  ['single owner']\n",
        "def binary_map(x):\n",
        "    return x.map({'yes': 1, 'No': 0})\n",
        "data[varlist1] = data[varlist1].apply(binary_map)\n",
        "\n",
        "data\n"
      ],
      "metadata": {
        "colab": {
          "base_uri": "https://localhost:8080/",
          "height": 485
        },
        "id": "_viSb8nyrBwp",
        "outputId": "2ba7e08b-35a7-4b30-d538-78e6e0e742b6"
      },
      "execution_count": 11,
      "outputs": [
        {
          "output_type": "execute_result",
          "data": {
            "text/plain": [
              "    CAR AGE BELOW 10 YRS  selling price  Km driven fuel type seller type  \\\n",
              "0                      1          60000      70000    Petrol  Individual   \n",
              "1                      1         135000      50000    Petrol  Individual   \n",
              "2                      1         600000     100000    Diesel  Individual   \n",
              "3                      1         250000      46000    Petrol  Individual   \n",
              "4                      1         450000     141000    Diesel  Individual   \n",
              "..                   ...            ...        ...       ...         ...   \n",
              "92                     1        1470000      34000    Diesel      Dealer   \n",
              "93                     1         350000      53000    Diesel  Individual   \n",
              "94                     1        2800000      49000    Diesel      Dealer   \n",
              "95                     1         210000      15000    Petrol      Dealer   \n",
              "96                     1         450000      50000    Petrol  Individual   \n",
              "\n",
              "   transmission  single owner  \n",
              "0        Manual             1  \n",
              "1        Manual             1  \n",
              "2        Manual             1  \n",
              "3        Manual             1  \n",
              "4        Manual             0  \n",
              "..          ...           ...  \n",
              "92    Automatic             0  \n",
              "93       Manual             0  \n",
              "94    Automatic             1  \n",
              "95       Manual             0  \n",
              "96       Manual             1  \n",
              "\n",
              "[97 rows x 7 columns]"
            ],
            "text/html": [
              "\n",
              "  <div id=\"df-97fe95ed-a53d-4417-bd36-fe1efa92de8a\">\n",
              "    <div class=\"colab-df-container\">\n",
              "      <div>\n",
              "<style scoped>\n",
              "    .dataframe tbody tr th:only-of-type {\n",
              "        vertical-align: middle;\n",
              "    }\n",
              "\n",
              "    .dataframe tbody tr th {\n",
              "        vertical-align: top;\n",
              "    }\n",
              "\n",
              "    .dataframe thead th {\n",
              "        text-align: right;\n",
              "    }\n",
              "</style>\n",
              "<table border=\"1\" class=\"dataframe\">\n",
              "  <thead>\n",
              "    <tr style=\"text-align: right;\">\n",
              "      <th></th>\n",
              "      <th>CAR AGE BELOW 10 YRS</th>\n",
              "      <th>selling price</th>\n",
              "      <th>Km driven</th>\n",
              "      <th>fuel type</th>\n",
              "      <th>seller type</th>\n",
              "      <th>transmission</th>\n",
              "      <th>single owner</th>\n",
              "    </tr>\n",
              "  </thead>\n",
              "  <tbody>\n",
              "    <tr>\n",
              "      <th>0</th>\n",
              "      <td>1</td>\n",
              "      <td>60000</td>\n",
              "      <td>70000</td>\n",
              "      <td>Petrol</td>\n",
              "      <td>Individual</td>\n",
              "      <td>Manual</td>\n",
              "      <td>1</td>\n",
              "    </tr>\n",
              "    <tr>\n",
              "      <th>1</th>\n",
              "      <td>1</td>\n",
              "      <td>135000</td>\n",
              "      <td>50000</td>\n",
              "      <td>Petrol</td>\n",
              "      <td>Individual</td>\n",
              "      <td>Manual</td>\n",
              "      <td>1</td>\n",
              "    </tr>\n",
              "    <tr>\n",
              "      <th>2</th>\n",
              "      <td>1</td>\n",
              "      <td>600000</td>\n",
              "      <td>100000</td>\n",
              "      <td>Diesel</td>\n",
              "      <td>Individual</td>\n",
              "      <td>Manual</td>\n",
              "      <td>1</td>\n",
              "    </tr>\n",
              "    <tr>\n",
              "      <th>3</th>\n",
              "      <td>1</td>\n",
              "      <td>250000</td>\n",
              "      <td>46000</td>\n",
              "      <td>Petrol</td>\n",
              "      <td>Individual</td>\n",
              "      <td>Manual</td>\n",
              "      <td>1</td>\n",
              "    </tr>\n",
              "    <tr>\n",
              "      <th>4</th>\n",
              "      <td>1</td>\n",
              "      <td>450000</td>\n",
              "      <td>141000</td>\n",
              "      <td>Diesel</td>\n",
              "      <td>Individual</td>\n",
              "      <td>Manual</td>\n",
              "      <td>0</td>\n",
              "    </tr>\n",
              "    <tr>\n",
              "      <th>...</th>\n",
              "      <td>...</td>\n",
              "      <td>...</td>\n",
              "      <td>...</td>\n",
              "      <td>...</td>\n",
              "      <td>...</td>\n",
              "      <td>...</td>\n",
              "      <td>...</td>\n",
              "    </tr>\n",
              "    <tr>\n",
              "      <th>92</th>\n",
              "      <td>1</td>\n",
              "      <td>1470000</td>\n",
              "      <td>34000</td>\n",
              "      <td>Diesel</td>\n",
              "      <td>Dealer</td>\n",
              "      <td>Automatic</td>\n",
              "      <td>0</td>\n",
              "    </tr>\n",
              "    <tr>\n",
              "      <th>93</th>\n",
              "      <td>1</td>\n",
              "      <td>350000</td>\n",
              "      <td>53000</td>\n",
              "      <td>Diesel</td>\n",
              "      <td>Individual</td>\n",
              "      <td>Manual</td>\n",
              "      <td>0</td>\n",
              "    </tr>\n",
              "    <tr>\n",
              "      <th>94</th>\n",
              "      <td>1</td>\n",
              "      <td>2800000</td>\n",
              "      <td>49000</td>\n",
              "      <td>Diesel</td>\n",
              "      <td>Dealer</td>\n",
              "      <td>Automatic</td>\n",
              "      <td>1</td>\n",
              "    </tr>\n",
              "    <tr>\n",
              "      <th>95</th>\n",
              "      <td>1</td>\n",
              "      <td>210000</td>\n",
              "      <td>15000</td>\n",
              "      <td>Petrol</td>\n",
              "      <td>Dealer</td>\n",
              "      <td>Manual</td>\n",
              "      <td>0</td>\n",
              "    </tr>\n",
              "    <tr>\n",
              "      <th>96</th>\n",
              "      <td>1</td>\n",
              "      <td>450000</td>\n",
              "      <td>50000</td>\n",
              "      <td>Petrol</td>\n",
              "      <td>Individual</td>\n",
              "      <td>Manual</td>\n",
              "      <td>1</td>\n",
              "    </tr>\n",
              "  </tbody>\n",
              "</table>\n",
              "<p>97 rows × 7 columns</p>\n",
              "</div>\n",
              "      <button class=\"colab-df-convert\" onclick=\"convertToInteractive('df-97fe95ed-a53d-4417-bd36-fe1efa92de8a')\"\n",
              "              title=\"Convert this dataframe to an interactive table.\"\n",
              "              style=\"display:none;\">\n",
              "        \n",
              "  <svg xmlns=\"http://www.w3.org/2000/svg\" height=\"24px\"viewBox=\"0 0 24 24\"\n",
              "       width=\"24px\">\n",
              "    <path d=\"M0 0h24v24H0V0z\" fill=\"none\"/>\n",
              "    <path d=\"M18.56 5.44l.94 2.06.94-2.06 2.06-.94-2.06-.94-.94-2.06-.94 2.06-2.06.94zm-11 1L8.5 8.5l.94-2.06 2.06-.94-2.06-.94L8.5 2.5l-.94 2.06-2.06.94zm10 10l.94 2.06.94-2.06 2.06-.94-2.06-.94-.94-2.06-.94 2.06-2.06.94z\"/><path d=\"M17.41 7.96l-1.37-1.37c-.4-.4-.92-.59-1.43-.59-.52 0-1.04.2-1.43.59L10.3 9.45l-7.72 7.72c-.78.78-.78 2.05 0 2.83L4 21.41c.39.39.9.59 1.41.59.51 0 1.02-.2 1.41-.59l7.78-7.78 2.81-2.81c.8-.78.8-2.07 0-2.86zM5.41 20L4 18.59l7.72-7.72 1.47 1.35L5.41 20z\"/>\n",
              "  </svg>\n",
              "      </button>\n",
              "      \n",
              "  <style>\n",
              "    .colab-df-container {\n",
              "      display:flex;\n",
              "      flex-wrap:wrap;\n",
              "      gap: 12px;\n",
              "    }\n",
              "\n",
              "    .colab-df-convert {\n",
              "      background-color: #E8F0FE;\n",
              "      border: none;\n",
              "      border-radius: 50%;\n",
              "      cursor: pointer;\n",
              "      display: none;\n",
              "      fill: #1967D2;\n",
              "      height: 32px;\n",
              "      padding: 0 0 0 0;\n",
              "      width: 32px;\n",
              "    }\n",
              "\n",
              "    .colab-df-convert:hover {\n",
              "      background-color: #E2EBFA;\n",
              "      box-shadow: 0px 1px 2px rgba(60, 64, 67, 0.3), 0px 1px 3px 1px rgba(60, 64, 67, 0.15);\n",
              "      fill: #174EA6;\n",
              "    }\n",
              "\n",
              "    [theme=dark] .colab-df-convert {\n",
              "      background-color: #3B4455;\n",
              "      fill: #D2E3FC;\n",
              "    }\n",
              "\n",
              "    [theme=dark] .colab-df-convert:hover {\n",
              "      background-color: #434B5C;\n",
              "      box-shadow: 0px 1px 3px 1px rgba(0, 0, 0, 0.15);\n",
              "      filter: drop-shadow(0px 1px 2px rgba(0, 0, 0, 0.3));\n",
              "      fill: #FFFFFF;\n",
              "    }\n",
              "  </style>\n",
              "\n",
              "      <script>\n",
              "        const buttonEl =\n",
              "          document.querySelector('#df-97fe95ed-a53d-4417-bd36-fe1efa92de8a button.colab-df-convert');\n",
              "        buttonEl.style.display =\n",
              "          google.colab.kernel.accessAllowed ? 'block' : 'none';\n",
              "\n",
              "        async function convertToInteractive(key) {\n",
              "          const element = document.querySelector('#df-97fe95ed-a53d-4417-bd36-fe1efa92de8a');\n",
              "          const dataTable =\n",
              "            await google.colab.kernel.invokeFunction('convertToInteractive',\n",
              "                                                     [key], {});\n",
              "          if (!dataTable) return;\n",
              "\n",
              "          const docLinkHtml = 'Like what you see? Visit the ' +\n",
              "            '<a target=\"_blank\" href=https://colab.research.google.com/notebooks/data_table.ipynb>data table notebook</a>'\n",
              "            + ' to learn more about interactive tables.';\n",
              "          element.innerHTML = '';\n",
              "          dataTable['output_type'] = 'display_data';\n",
              "          await google.colab.output.renderOutput(dataTable, element);\n",
              "          const docLink = document.createElement('div');\n",
              "          docLink.innerHTML = docLinkHtml;\n",
              "          element.appendChild(docLink);\n",
              "        }\n",
              "      </script>\n",
              "    </div>\n",
              "  </div>\n",
              "  "
            ]
          },
          "metadata": {},
          "execution_count": 11
        }
      ]
    },
    {
      "cell_type": "markdown",
      "source": [
        "**Categorial Conversion**"
      ],
      "metadata": {
        "id": "Hdwj3b-GrMMd"
      }
    },
    {
      "cell_type": "code",
      "source": [
        "status = pd.get_dummies(data['fuel type'], drop_first = False)\n",
        "data = pd.concat([data, status], axis = 1)\n",
        "data.drop(['fuel type'], axis = 1, inplace = True)\n",
        "status = pd.get_dummies(data['seller type'], drop_first = False)\n",
        "data = pd.concat([data, status], axis = 1)\n",
        "data.drop(['seller type'], axis = 1, inplace = True)\n",
        "status = pd.get_dummies(data['transmission'], drop_first = False)\n",
        "data = pd.concat([data, status], axis = 1)\n",
        "data.drop(['transmission'], axis = 1, inplace = True)\n",
        "data"
      ],
      "metadata": {
        "id": "DkkV4JAVtvdh",
        "colab": {
          "base_uri": "https://localhost:8080/",
          "height": 557
        },
        "outputId": "3ebae6f0-bb9a-4f25-da40-2f1d89fa32dc"
      },
      "execution_count": 12,
      "outputs": [
        {
          "output_type": "execute_result",
          "data": {
            "text/plain": [
              "    CAR AGE BELOW 10 YRS  selling price  Km driven  single owner  Diesel  \\\n",
              "0                      1          60000      70000             1       0   \n",
              "1                      1         135000      50000             1       0   \n",
              "2                      1         600000     100000             1       1   \n",
              "3                      1         250000      46000             1       0   \n",
              "4                      1         450000     141000             0       1   \n",
              "..                   ...            ...        ...           ...     ...   \n",
              "92                     1        1470000      34000             0       1   \n",
              "93                     1         350000      53000             0       1   \n",
              "94                     1        2800000      49000             1       1   \n",
              "95                     1         210000      15000             0       0   \n",
              "96                     1         450000      50000             1       0   \n",
              "\n",
              "    Petrol  Dealer  Individual  Automatic  Manual  \n",
              "0        1       0           1          0       1  \n",
              "1        1       0           1          0       1  \n",
              "2        0       0           1          0       1  \n",
              "3        1       0           1          0       1  \n",
              "4        0       0           1          0       1  \n",
              "..     ...     ...         ...        ...     ...  \n",
              "92       0       1           0          1       0  \n",
              "93       0       0           1          0       1  \n",
              "94       0       1           0          1       0  \n",
              "95       1       1           0          0       1  \n",
              "96       1       0           1          0       1  \n",
              "\n",
              "[97 rows x 10 columns]"
            ],
            "text/html": [
              "\n",
              "  <div id=\"df-1967f25f-9b86-48f8-b0ad-9e6b74119aea\">\n",
              "    <div class=\"colab-df-container\">\n",
              "      <div>\n",
              "<style scoped>\n",
              "    .dataframe tbody tr th:only-of-type {\n",
              "        vertical-align: middle;\n",
              "    }\n",
              "\n",
              "    .dataframe tbody tr th {\n",
              "        vertical-align: top;\n",
              "    }\n",
              "\n",
              "    .dataframe thead th {\n",
              "        text-align: right;\n",
              "    }\n",
              "</style>\n",
              "<table border=\"1\" class=\"dataframe\">\n",
              "  <thead>\n",
              "    <tr style=\"text-align: right;\">\n",
              "      <th></th>\n",
              "      <th>CAR AGE BELOW 10 YRS</th>\n",
              "      <th>selling price</th>\n",
              "      <th>Km driven</th>\n",
              "      <th>single owner</th>\n",
              "      <th>Diesel</th>\n",
              "      <th>Petrol</th>\n",
              "      <th>Dealer</th>\n",
              "      <th>Individual</th>\n",
              "      <th>Automatic</th>\n",
              "      <th>Manual</th>\n",
              "    </tr>\n",
              "  </thead>\n",
              "  <tbody>\n",
              "    <tr>\n",
              "      <th>0</th>\n",
              "      <td>1</td>\n",
              "      <td>60000</td>\n",
              "      <td>70000</td>\n",
              "      <td>1</td>\n",
              "      <td>0</td>\n",
              "      <td>1</td>\n",
              "      <td>0</td>\n",
              "      <td>1</td>\n",
              "      <td>0</td>\n",
              "      <td>1</td>\n",
              "    </tr>\n",
              "    <tr>\n",
              "      <th>1</th>\n",
              "      <td>1</td>\n",
              "      <td>135000</td>\n",
              "      <td>50000</td>\n",
              "      <td>1</td>\n",
              "      <td>0</td>\n",
              "      <td>1</td>\n",
              "      <td>0</td>\n",
              "      <td>1</td>\n",
              "      <td>0</td>\n",
              "      <td>1</td>\n",
              "    </tr>\n",
              "    <tr>\n",
              "      <th>2</th>\n",
              "      <td>1</td>\n",
              "      <td>600000</td>\n",
              "      <td>100000</td>\n",
              "      <td>1</td>\n",
              "      <td>1</td>\n",
              "      <td>0</td>\n",
              "      <td>0</td>\n",
              "      <td>1</td>\n",
              "      <td>0</td>\n",
              "      <td>1</td>\n",
              "    </tr>\n",
              "    <tr>\n",
              "      <th>3</th>\n",
              "      <td>1</td>\n",
              "      <td>250000</td>\n",
              "      <td>46000</td>\n",
              "      <td>1</td>\n",
              "      <td>0</td>\n",
              "      <td>1</td>\n",
              "      <td>0</td>\n",
              "      <td>1</td>\n",
              "      <td>0</td>\n",
              "      <td>1</td>\n",
              "    </tr>\n",
              "    <tr>\n",
              "      <th>4</th>\n",
              "      <td>1</td>\n",
              "      <td>450000</td>\n",
              "      <td>141000</td>\n",
              "      <td>0</td>\n",
              "      <td>1</td>\n",
              "      <td>0</td>\n",
              "      <td>0</td>\n",
              "      <td>1</td>\n",
              "      <td>0</td>\n",
              "      <td>1</td>\n",
              "    </tr>\n",
              "    <tr>\n",
              "      <th>...</th>\n",
              "      <td>...</td>\n",
              "      <td>...</td>\n",
              "      <td>...</td>\n",
              "      <td>...</td>\n",
              "      <td>...</td>\n",
              "      <td>...</td>\n",
              "      <td>...</td>\n",
              "      <td>...</td>\n",
              "      <td>...</td>\n",
              "      <td>...</td>\n",
              "    </tr>\n",
              "    <tr>\n",
              "      <th>92</th>\n",
              "      <td>1</td>\n",
              "      <td>1470000</td>\n",
              "      <td>34000</td>\n",
              "      <td>0</td>\n",
              "      <td>1</td>\n",
              "      <td>0</td>\n",
              "      <td>1</td>\n",
              "      <td>0</td>\n",
              "      <td>1</td>\n",
              "      <td>0</td>\n",
              "    </tr>\n",
              "    <tr>\n",
              "      <th>93</th>\n",
              "      <td>1</td>\n",
              "      <td>350000</td>\n",
              "      <td>53000</td>\n",
              "      <td>0</td>\n",
              "      <td>1</td>\n",
              "      <td>0</td>\n",
              "      <td>0</td>\n",
              "      <td>1</td>\n",
              "      <td>0</td>\n",
              "      <td>1</td>\n",
              "    </tr>\n",
              "    <tr>\n",
              "      <th>94</th>\n",
              "      <td>1</td>\n",
              "      <td>2800000</td>\n",
              "      <td>49000</td>\n",
              "      <td>1</td>\n",
              "      <td>1</td>\n",
              "      <td>0</td>\n",
              "      <td>1</td>\n",
              "      <td>0</td>\n",
              "      <td>1</td>\n",
              "      <td>0</td>\n",
              "    </tr>\n",
              "    <tr>\n",
              "      <th>95</th>\n",
              "      <td>1</td>\n",
              "      <td>210000</td>\n",
              "      <td>15000</td>\n",
              "      <td>0</td>\n",
              "      <td>0</td>\n",
              "      <td>1</td>\n",
              "      <td>1</td>\n",
              "      <td>0</td>\n",
              "      <td>0</td>\n",
              "      <td>1</td>\n",
              "    </tr>\n",
              "    <tr>\n",
              "      <th>96</th>\n",
              "      <td>1</td>\n",
              "      <td>450000</td>\n",
              "      <td>50000</td>\n",
              "      <td>1</td>\n",
              "      <td>0</td>\n",
              "      <td>1</td>\n",
              "      <td>0</td>\n",
              "      <td>1</td>\n",
              "      <td>0</td>\n",
              "      <td>1</td>\n",
              "    </tr>\n",
              "  </tbody>\n",
              "</table>\n",
              "<p>97 rows × 10 columns</p>\n",
              "</div>\n",
              "      <button class=\"colab-df-convert\" onclick=\"convertToInteractive('df-1967f25f-9b86-48f8-b0ad-9e6b74119aea')\"\n",
              "              title=\"Convert this dataframe to an interactive table.\"\n",
              "              style=\"display:none;\">\n",
              "        \n",
              "  <svg xmlns=\"http://www.w3.org/2000/svg\" height=\"24px\"viewBox=\"0 0 24 24\"\n",
              "       width=\"24px\">\n",
              "    <path d=\"M0 0h24v24H0V0z\" fill=\"none\"/>\n",
              "    <path d=\"M18.56 5.44l.94 2.06.94-2.06 2.06-.94-2.06-.94-.94-2.06-.94 2.06-2.06.94zm-11 1L8.5 8.5l.94-2.06 2.06-.94-2.06-.94L8.5 2.5l-.94 2.06-2.06.94zm10 10l.94 2.06.94-2.06 2.06-.94-2.06-.94-.94-2.06-.94 2.06-2.06.94z\"/><path d=\"M17.41 7.96l-1.37-1.37c-.4-.4-.92-.59-1.43-.59-.52 0-1.04.2-1.43.59L10.3 9.45l-7.72 7.72c-.78.78-.78 2.05 0 2.83L4 21.41c.39.39.9.59 1.41.59.51 0 1.02-.2 1.41-.59l7.78-7.78 2.81-2.81c.8-.78.8-2.07 0-2.86zM5.41 20L4 18.59l7.72-7.72 1.47 1.35L5.41 20z\"/>\n",
              "  </svg>\n",
              "      </button>\n",
              "      \n",
              "  <style>\n",
              "    .colab-df-container {\n",
              "      display:flex;\n",
              "      flex-wrap:wrap;\n",
              "      gap: 12px;\n",
              "    }\n",
              "\n",
              "    .colab-df-convert {\n",
              "      background-color: #E8F0FE;\n",
              "      border: none;\n",
              "      border-radius: 50%;\n",
              "      cursor: pointer;\n",
              "      display: none;\n",
              "      fill: #1967D2;\n",
              "      height: 32px;\n",
              "      padding: 0 0 0 0;\n",
              "      width: 32px;\n",
              "    }\n",
              "\n",
              "    .colab-df-convert:hover {\n",
              "      background-color: #E2EBFA;\n",
              "      box-shadow: 0px 1px 2px rgba(60, 64, 67, 0.3), 0px 1px 3px 1px rgba(60, 64, 67, 0.15);\n",
              "      fill: #174EA6;\n",
              "    }\n",
              "\n",
              "    [theme=dark] .colab-df-convert {\n",
              "      background-color: #3B4455;\n",
              "      fill: #D2E3FC;\n",
              "    }\n",
              "\n",
              "    [theme=dark] .colab-df-convert:hover {\n",
              "      background-color: #434B5C;\n",
              "      box-shadow: 0px 1px 3px 1px rgba(0, 0, 0, 0.15);\n",
              "      filter: drop-shadow(0px 1px 2px rgba(0, 0, 0, 0.3));\n",
              "      fill: #FFFFFF;\n",
              "    }\n",
              "  </style>\n",
              "\n",
              "      <script>\n",
              "        const buttonEl =\n",
              "          document.querySelector('#df-1967f25f-9b86-48f8-b0ad-9e6b74119aea button.colab-df-convert');\n",
              "        buttonEl.style.display =\n",
              "          google.colab.kernel.accessAllowed ? 'block' : 'none';\n",
              "\n",
              "        async function convertToInteractive(key) {\n",
              "          const element = document.querySelector('#df-1967f25f-9b86-48f8-b0ad-9e6b74119aea');\n",
              "          const dataTable =\n",
              "            await google.colab.kernel.invokeFunction('convertToInteractive',\n",
              "                                                     [key], {});\n",
              "          if (!dataTable) return;\n",
              "\n",
              "          const docLinkHtml = 'Like what you see? Visit the ' +\n",
              "            '<a target=\"_blank\" href=https://colab.research.google.com/notebooks/data_table.ipynb>data table notebook</a>'\n",
              "            + ' to learn more about interactive tables.';\n",
              "          element.innerHTML = '';\n",
              "          dataTable['output_type'] = 'display_data';\n",
              "          await google.colab.output.renderOutput(dataTable, element);\n",
              "          const docLink = document.createElement('div');\n",
              "          docLink.innerHTML = docLinkHtml;\n",
              "          element.appendChild(docLink);\n",
              "        }\n",
              "      </script>\n",
              "    </div>\n",
              "  </div>\n",
              "  "
            ]
          },
          "metadata": {},
          "execution_count": 12
        }
      ]
    },
    {
      "cell_type": "markdown",
      "source": [
        "**DATA SPLIT**"
      ],
      "metadata": {
        "id": "BezOgHq3uQs5"
      }
    },
    {
      "cell_type": "code",
      "source": [
        "from sklearn.model_selection import train_test_split\n",
        "df_train, df_test = train_test_split(data, train_size = 0.7, test_size = 0.3, random_state = 100)"
      ],
      "metadata": {
        "id": "-YXq2PNjuqI5"
      },
      "execution_count": 13,
      "outputs": []
    },
    {
      "cell_type": "markdown",
      "source": [
        "**Data Normalization**"
      ],
      "metadata": {
        "id": "Yro1d62TvWyw"
      }
    },
    {
      "cell_type": "code",
      "source": [
        "from sklearn.preprocessing import MinMaxScaler\n",
        "scaler = MinMaxScaler()\n",
        "\n",
        "# Applying scaler() to all the columns except the 'yes-no' and 'dummy' variables\n",
        "num_vars = ['selling price', 'Km driven']\n",
        "df_train[num_vars] = scaler.fit_transform(df_train[num_vars])\n",
        "df_test[num_vars] = scaler.fit_transform(df_test[num_vars])\n",
        "\n",
        "df_train"
      ],
      "metadata": {
        "colab": {
          "base_uri": "https://localhost:8080/",
          "height": 557
        },
        "id": "r3DflTC5vjLn",
        "outputId": "7e7e2051-0be5-4c41-b66f-f3a86fb38446"
      },
      "execution_count": 14,
      "outputs": [
        {
          "output_type": "execute_result",
          "data": {
            "text/plain": [
              "    CAR AGE BELOW 10 YRS  selling price  Km driven  single owner  Diesel  \\\n",
              "21                     1       0.097651   0.059334             1       0   \n",
              "63                     1       0.022250   0.199132             0       0   \n",
              "33                     1       0.107540   0.028944             1       0   \n",
              "89                     1       0.066749   0.334298             1       1   \n",
              "72                     1       0.054388   0.334298             0       1   \n",
              "..                   ...            ...        ...           ...     ...   \n",
              "79                     1       0.048208   0.334298             0       1   \n",
              "87                     1       1.000000   0.005789             1       1   \n",
              "67                     1       0.027194   1.000000             0       1   \n",
              "24                     1       0.023486   0.276411             1       0   \n",
              "8                      1       0.097651   0.059334             1       0   \n",
              "\n",
              "    Petrol  Dealer  Individual  Automatic  Manual  \n",
              "21       1       0           1          0       1  \n",
              "63       1       1           0          0       1  \n",
              "33       1       1           0          0       1  \n",
              "89       0       0           1          0       1  \n",
              "72       0       0           1          0       1  \n",
              "..     ...     ...         ...        ...     ...  \n",
              "79       0       0           1          0       1  \n",
              "87       0       1           0          1       0  \n",
              "67       0       0           1          0       1  \n",
              "24       1       0           1          0       1  \n",
              "8        1       0           1          0       1  \n",
              "\n",
              "[67 rows x 10 columns]"
            ],
            "text/html": [
              "\n",
              "  <div id=\"df-8922bd6f-b9eb-40f9-a9fb-7804e50226e9\">\n",
              "    <div class=\"colab-df-container\">\n",
              "      <div>\n",
              "<style scoped>\n",
              "    .dataframe tbody tr th:only-of-type {\n",
              "        vertical-align: middle;\n",
              "    }\n",
              "\n",
              "    .dataframe tbody tr th {\n",
              "        vertical-align: top;\n",
              "    }\n",
              "\n",
              "    .dataframe thead th {\n",
              "        text-align: right;\n",
              "    }\n",
              "</style>\n",
              "<table border=\"1\" class=\"dataframe\">\n",
              "  <thead>\n",
              "    <tr style=\"text-align: right;\">\n",
              "      <th></th>\n",
              "      <th>CAR AGE BELOW 10 YRS</th>\n",
              "      <th>selling price</th>\n",
              "      <th>Km driven</th>\n",
              "      <th>single owner</th>\n",
              "      <th>Diesel</th>\n",
              "      <th>Petrol</th>\n",
              "      <th>Dealer</th>\n",
              "      <th>Individual</th>\n",
              "      <th>Automatic</th>\n",
              "      <th>Manual</th>\n",
              "    </tr>\n",
              "  </thead>\n",
              "  <tbody>\n",
              "    <tr>\n",
              "      <th>21</th>\n",
              "      <td>1</td>\n",
              "      <td>0.097651</td>\n",
              "      <td>0.059334</td>\n",
              "      <td>1</td>\n",
              "      <td>0</td>\n",
              "      <td>1</td>\n",
              "      <td>0</td>\n",
              "      <td>1</td>\n",
              "      <td>0</td>\n",
              "      <td>1</td>\n",
              "    </tr>\n",
              "    <tr>\n",
              "      <th>63</th>\n",
              "      <td>1</td>\n",
              "      <td>0.022250</td>\n",
              "      <td>0.199132</td>\n",
              "      <td>0</td>\n",
              "      <td>0</td>\n",
              "      <td>1</td>\n",
              "      <td>1</td>\n",
              "      <td>0</td>\n",
              "      <td>0</td>\n",
              "      <td>1</td>\n",
              "    </tr>\n",
              "    <tr>\n",
              "      <th>33</th>\n",
              "      <td>1</td>\n",
              "      <td>0.107540</td>\n",
              "      <td>0.028944</td>\n",
              "      <td>1</td>\n",
              "      <td>0</td>\n",
              "      <td>1</td>\n",
              "      <td>1</td>\n",
              "      <td>0</td>\n",
              "      <td>0</td>\n",
              "      <td>1</td>\n",
              "    </tr>\n",
              "    <tr>\n",
              "      <th>89</th>\n",
              "      <td>1</td>\n",
              "      <td>0.066749</td>\n",
              "      <td>0.334298</td>\n",
              "      <td>1</td>\n",
              "      <td>1</td>\n",
              "      <td>0</td>\n",
              "      <td>0</td>\n",
              "      <td>1</td>\n",
              "      <td>0</td>\n",
              "      <td>1</td>\n",
              "    </tr>\n",
              "    <tr>\n",
              "      <th>72</th>\n",
              "      <td>1</td>\n",
              "      <td>0.054388</td>\n",
              "      <td>0.334298</td>\n",
              "      <td>0</td>\n",
              "      <td>1</td>\n",
              "      <td>0</td>\n",
              "      <td>0</td>\n",
              "      <td>1</td>\n",
              "      <td>0</td>\n",
              "      <td>1</td>\n",
              "    </tr>\n",
              "    <tr>\n",
              "      <th>...</th>\n",
              "      <td>...</td>\n",
              "      <td>...</td>\n",
              "      <td>...</td>\n",
              "      <td>...</td>\n",
              "      <td>...</td>\n",
              "      <td>...</td>\n",
              "      <td>...</td>\n",
              "      <td>...</td>\n",
              "      <td>...</td>\n",
              "      <td>...</td>\n",
              "    </tr>\n",
              "    <tr>\n",
              "      <th>79</th>\n",
              "      <td>1</td>\n",
              "      <td>0.048208</td>\n",
              "      <td>0.334298</td>\n",
              "      <td>0</td>\n",
              "      <td>1</td>\n",
              "      <td>0</td>\n",
              "      <td>0</td>\n",
              "      <td>1</td>\n",
              "      <td>0</td>\n",
              "      <td>1</td>\n",
              "    </tr>\n",
              "    <tr>\n",
              "      <th>87</th>\n",
              "      <td>1</td>\n",
              "      <td>1.000000</td>\n",
              "      <td>0.005789</td>\n",
              "      <td>1</td>\n",
              "      <td>1</td>\n",
              "      <td>0</td>\n",
              "      <td>1</td>\n",
              "      <td>0</td>\n",
              "      <td>1</td>\n",
              "      <td>0</td>\n",
              "    </tr>\n",
              "    <tr>\n",
              "      <th>67</th>\n",
              "      <td>1</td>\n",
              "      <td>0.027194</td>\n",
              "      <td>1.000000</td>\n",
              "      <td>0</td>\n",
              "      <td>1</td>\n",
              "      <td>0</td>\n",
              "      <td>0</td>\n",
              "      <td>1</td>\n",
              "      <td>0</td>\n",
              "      <td>1</td>\n",
              "    </tr>\n",
              "    <tr>\n",
              "      <th>24</th>\n",
              "      <td>1</td>\n",
              "      <td>0.023486</td>\n",
              "      <td>0.276411</td>\n",
              "      <td>1</td>\n",
              "      <td>0</td>\n",
              "      <td>1</td>\n",
              "      <td>0</td>\n",
              "      <td>1</td>\n",
              "      <td>0</td>\n",
              "      <td>1</td>\n",
              "    </tr>\n",
              "    <tr>\n",
              "      <th>8</th>\n",
              "      <td>1</td>\n",
              "      <td>0.097651</td>\n",
              "      <td>0.059334</td>\n",
              "      <td>1</td>\n",
              "      <td>0</td>\n",
              "      <td>1</td>\n",
              "      <td>0</td>\n",
              "      <td>1</td>\n",
              "      <td>0</td>\n",
              "      <td>1</td>\n",
              "    </tr>\n",
              "  </tbody>\n",
              "</table>\n",
              "<p>67 rows × 10 columns</p>\n",
              "</div>\n",
              "      <button class=\"colab-df-convert\" onclick=\"convertToInteractive('df-8922bd6f-b9eb-40f9-a9fb-7804e50226e9')\"\n",
              "              title=\"Convert this dataframe to an interactive table.\"\n",
              "              style=\"display:none;\">\n",
              "        \n",
              "  <svg xmlns=\"http://www.w3.org/2000/svg\" height=\"24px\"viewBox=\"0 0 24 24\"\n",
              "       width=\"24px\">\n",
              "    <path d=\"M0 0h24v24H0V0z\" fill=\"none\"/>\n",
              "    <path d=\"M18.56 5.44l.94 2.06.94-2.06 2.06-.94-2.06-.94-.94-2.06-.94 2.06-2.06.94zm-11 1L8.5 8.5l.94-2.06 2.06-.94-2.06-.94L8.5 2.5l-.94 2.06-2.06.94zm10 10l.94 2.06.94-2.06 2.06-.94-2.06-.94-.94-2.06-.94 2.06-2.06.94z\"/><path d=\"M17.41 7.96l-1.37-1.37c-.4-.4-.92-.59-1.43-.59-.52 0-1.04.2-1.43.59L10.3 9.45l-7.72 7.72c-.78.78-.78 2.05 0 2.83L4 21.41c.39.39.9.59 1.41.59.51 0 1.02-.2 1.41-.59l7.78-7.78 2.81-2.81c.8-.78.8-2.07 0-2.86zM5.41 20L4 18.59l7.72-7.72 1.47 1.35L5.41 20z\"/>\n",
              "  </svg>\n",
              "      </button>\n",
              "      \n",
              "  <style>\n",
              "    .colab-df-container {\n",
              "      display:flex;\n",
              "      flex-wrap:wrap;\n",
              "      gap: 12px;\n",
              "    }\n",
              "\n",
              "    .colab-df-convert {\n",
              "      background-color: #E8F0FE;\n",
              "      border: none;\n",
              "      border-radius: 50%;\n",
              "      cursor: pointer;\n",
              "      display: none;\n",
              "      fill: #1967D2;\n",
              "      height: 32px;\n",
              "      padding: 0 0 0 0;\n",
              "      width: 32px;\n",
              "    }\n",
              "\n",
              "    .colab-df-convert:hover {\n",
              "      background-color: #E2EBFA;\n",
              "      box-shadow: 0px 1px 2px rgba(60, 64, 67, 0.3), 0px 1px 3px 1px rgba(60, 64, 67, 0.15);\n",
              "      fill: #174EA6;\n",
              "    }\n",
              "\n",
              "    [theme=dark] .colab-df-convert {\n",
              "      background-color: #3B4455;\n",
              "      fill: #D2E3FC;\n",
              "    }\n",
              "\n",
              "    [theme=dark] .colab-df-convert:hover {\n",
              "      background-color: #434B5C;\n",
              "      box-shadow: 0px 1px 3px 1px rgba(0, 0, 0, 0.15);\n",
              "      filter: drop-shadow(0px 1px 2px rgba(0, 0, 0, 0.3));\n",
              "      fill: #FFFFFF;\n",
              "    }\n",
              "  </style>\n",
              "\n",
              "      <script>\n",
              "        const buttonEl =\n",
              "          document.querySelector('#df-8922bd6f-b9eb-40f9-a9fb-7804e50226e9 button.colab-df-convert');\n",
              "        buttonEl.style.display =\n",
              "          google.colab.kernel.accessAllowed ? 'block' : 'none';\n",
              "\n",
              "        async function convertToInteractive(key) {\n",
              "          const element = document.querySelector('#df-8922bd6f-b9eb-40f9-a9fb-7804e50226e9');\n",
              "          const dataTable =\n",
              "            await google.colab.kernel.invokeFunction('convertToInteractive',\n",
              "                                                     [key], {});\n",
              "          if (!dataTable) return;\n",
              "\n",
              "          const docLinkHtml = 'Like what you see? Visit the ' +\n",
              "            '<a target=\"_blank\" href=https://colab.research.google.com/notebooks/data_table.ipynb>data table notebook</a>'\n",
              "            + ' to learn more about interactive tables.';\n",
              "          element.innerHTML = '';\n",
              "          dataTable['output_type'] = 'display_data';\n",
              "          await google.colab.output.renderOutput(dataTable, element);\n",
              "          const docLink = document.createElement('div');\n",
              "          docLink.innerHTML = docLinkHtml;\n",
              "          element.appendChild(docLink);\n",
              "        }\n",
              "      </script>\n",
              "    </div>\n",
              "  </div>\n",
              "  "
            ]
          },
          "metadata": {},
          "execution_count": 14
        }
      ]
    },
    {
      "cell_type": "markdown",
      "source": [
        "**Input - Output Data Split**"
      ],
      "metadata": {
        "id": "Zv3miecvwm8n"
      }
    },
    {
      "cell_type": "code",
      "source": [
        "y_train = df_train.pop('selling price')\n",
        "X_train = df_train\n",
        "y_test = df_test.pop('selling price')\n",
        "X_test = df_test"
      ],
      "metadata": {
        "id": "sIZSqoU7w3SR"
      },
      "execution_count": 15,
      "outputs": []
    },
    {
      "cell_type": "code",
      "source": [
        "pd.set_option('max_info_columns', 100)\n",
        "data.info()"
      ],
      "metadata": {
        "colab": {
          "base_uri": "https://localhost:8080/"
        },
        "id": "MDHpteh9sk2k",
        "outputId": "6cdabfad-b7a5-468f-fc9b-315816e9f29c"
      },
      "execution_count": 16,
      "outputs": [
        {
          "output_type": "stream",
          "name": "stdout",
          "text": [
            "<class 'pandas.core.frame.DataFrame'>\n",
            "RangeIndex: 97 entries, 0 to 96\n",
            "Data columns (total 10 columns):\n",
            " #   Column                Non-Null Count  Dtype\n",
            "---  ------                --------------  -----\n",
            " 0   CAR AGE BELOW 10 YRS  97 non-null     int64\n",
            " 1   selling price         97 non-null     int64\n",
            " 2   Km driven             97 non-null     int64\n",
            " 3   single owner          97 non-null     int64\n",
            " 4   Diesel                97 non-null     uint8\n",
            " 5   Petrol                97 non-null     uint8\n",
            " 6   Dealer                97 non-null     uint8\n",
            " 7   Individual            97 non-null     uint8\n",
            " 8   Automatic             97 non-null     uint8\n",
            " 9   Manual                97 non-null     uint8\n",
            "dtypes: int64(4), uint8(6)\n",
            "memory usage: 3.7 KB\n"
          ]
        }
      ]
    },
    {
      "cell_type": "markdown",
      "source": [
        "**Model Training**"
      ],
      "metadata": {
        "id": "9wyZxguEGsQQ"
      }
    },
    {
      "cell_type": "code",
      "source": [
        "from sklearn.linear_model import LinearRegression\n",
        "regressor = LinearRegression()\n",
        "regressor.fit(X_train, y_train)"
      ],
      "metadata": {
        "id": "DCW6yUAvxF_j",
        "colab": {
          "base_uri": "https://localhost:8080/"
        },
        "outputId": "8fd12949-3ba9-49ce-f96f-73c8a4a462c9"
      },
      "execution_count": 17,
      "outputs": [
        {
          "output_type": "execute_result",
          "data": {
            "text/plain": [
              "LinearRegression()"
            ]
          },
          "metadata": {},
          "execution_count": 17
        }
      ]
    },
    {
      "cell_type": "code",
      "source": [
        "m = regressor.coef_\n",
        "c = regressor.intercept_,\n",
        "print(\"Estimated model weights, m:\" , m)\n",
        "print(\"Estimated model intercept, c:\" , c)"
      ],
      "metadata": {
        "colab": {
          "base_uri": "https://localhost:8080/"
        },
        "id": "DBZefI-LxMhj",
        "outputId": "f9037887-0abc-4992-85a2-5ab92187a779"
      },
      "execution_count": 18,
      "outputs": [
        {
          "output_type": "stream",
          "name": "stdout",
          "text": [
            "Estimated model weights, m: [-0.00658965 -0.14764215  0.02187046  0.03830798 -0.03830798  0.01300512\n",
            " -0.01300512  0.09034423 -0.09034423]\n",
            "Estimated model intercept, c: (0.16816647596394357,)\n"
          ]
        }
      ]
    },
    {
      "cell_type": "markdown",
      "source": [
        "**Prediction on Training and Testing Data**"
      ],
      "metadata": {
        "id": "eogpgl9yxq5h"
      }
    },
    {
      "cell_type": "code",
      "source": [
        "y_pred_test =  regressor.predict(X_test)\n",
        "y_pred_train =  regressor.predict(X_train)"
      ],
      "metadata": {
        "id": "X0S5rWq8xX40"
      },
      "execution_count": 19,
      "outputs": []
    },
    {
      "cell_type": "markdown",
      "source": [
        "**Error Metrics Computation**"
      ],
      "metadata": {
        "id": "3TP5IK_qxXmA"
      }
    },
    {
      "cell_type": "code",
      "source": [
        "import math\n",
        "from sklearn.metrics import mean_squared_error \n",
        "from sklearn.metrics import mean_absolute_error\n",
        "\n",
        "\n",
        "#Training Accuracies\n",
        "rmse = math.sqrt(mean_squared_error(y_train, y_pred_train)) \n",
        "print('Root mean square error', rmse) \n",
        "mse = (mean_squared_error(y_train, y_pred_train)) \n",
        "print('Mean square error', mse) \n",
        "mae=mean_absolute_error(y_train, y_pred_train)\n",
        "print('Mean absolute error', mae)"
      ],
      "metadata": {
        "colab": {
          "base_uri": "https://localhost:8080/"
        },
        "id": "UPvdCtxDxrFZ",
        "outputId": "3cf54cfe-0fb5-4033-cb96-6bbfaa4c2fd7"
      },
      "execution_count": 20,
      "outputs": [
        {
          "output_type": "stream",
          "name": "stdout",
          "text": [
            "Root mean square error 0.09746331243519227\n",
            "Mean square error 0.009499097270839902\n",
            "Mean absolute error 0.04407421262446204\n"
          ]
        }
      ]
    },
    {
      "cell_type": "code",
      "source": [
        "rmse = math.sqrt(mean_squared_error(y_test, y_pred_test)) \n",
        "print('Root mean square error', rmse) \n",
        "mse = (mean_squared_error(y_test, y_pred_test)) \n",
        "print('Mean square error', mse) \n",
        "mae=mean_absolute_error(y_test, y_pred_test)\n",
        "print('Mean absolute error', mae)"
      ],
      "metadata": {
        "colab": {
          "base_uri": "https://localhost:8080/"
        },
        "id": "FTe92cxNx2HK",
        "outputId": "c7974091-bf96-447b-d330-d5b650797fb4"
      },
      "execution_count": 21,
      "outputs": [
        {
          "output_type": "stream",
          "name": "stdout",
          "text": [
            "Root mean square error 0.341038352533497\n",
            "Mean square error 0.11630715789876178\n",
            "Mean absolute error 0.27235360613962895\n"
          ]
        }
      ]
    },
    {
      "cell_type": "markdown",
      "source": [
        "**Save Model**"
      ],
      "metadata": {
        "id": "1_u8IjfFx7XC"
      }
    },
    {
      "cell_type": "code",
      "source": [
        "import pickle\n",
        "# Save the model\n",
        "filename = 'model.pkl'\n",
        "pickle.dump(regressor, open(filename, 'wb'))"
      ],
      "metadata": {
        "id": "EmZo-fy1x7iq"
      },
      "execution_count": 22,
      "outputs": []
    },
    {
      "cell_type": "markdown",
      "source": [
        "**Deployment**"
      ],
      "metadata": {
        "id": "KDMCX3J6yGSM"
      }
    },
    {
      "cell_type": "code",
      "source": [
        "list_of_columns = data.columns\n",
        "input_data=pd.DataFrame(columns=list_of_columns)\n",
        "input_data.drop(['selling price'], axis='columns', inplace=True)\n",
        "\n",
        "input_data.at[0, 'CAR AGE BELOW 10 YRS'] = input('IS IT CAR AGE BELOW 10 YRS =')\n",
        "input_data.at[0, 'single owner'] = input('IS IT single owner =')\n",
        "input_data.at[0, 'Diesel'] = input('IS IT Diesel =')\n",
        "input_data.at[0, 'Petrol'] = input('IS IT Petrol =')\n",
        "input_data.at[0, 'Dealer'] = input('IS IT Dealer =')\n",
        "input_data.at[0, 'Individual'] = input('IS IT Individual =')\n",
        "input_data.at[0, 'Automatic'] = input('IS IT Automatic =')\n",
        "input_data.at[0, 'Manual'] = input('IS IT Manual =')\n",
        "input_data.at[0, 'Km driven'] = float(input('Enter Km driven ='))\n",
        "\n",
        "\n",
        "\n",
        "\n",
        "\n",
        "# Converting the categorical variable into numerical\n",
        "varlist =  ['CAR AGE BELOW 10 YRS','single owner', 'Diesel', 'Petrol', 'Dealer', 'Individual', 'Automatic', 'Manual']\n",
        "\n",
        "# Defining the map function\n",
        "def binary_map(x):\n",
        "    return x.map({'YES': 1, 'NO': 0})\n",
        "\n",
        "# Applying the function to the data list\n",
        "input_data[varlist] = input_data[varlist].apply(binary_map)\n",
        "\n",
        "\n",
        "\n",
        "input_data['Km driven']=(input_data['Km driven']-data['Km driven'].min())/(data['Km driven'].max()-data['Km driven'].min())\n",
        "\n",
        "\n",
        "\n",
        "y_pred =regressor.predict(input_data)\n",
        "Global=y_pred*(data['selling price'].max()-data['selling price'].min())+100*(data['selling price'].min())\n",
        "print('Predict.ed selling price =',Global)\n",
        "\n"
      ],
      "metadata": {
        "colab": {
          "base_uri": "https://localhost:8080/"
        },
        "id": "jZNZAM_Bkp7Q",
        "outputId": "8e81cfe5-ebfd-45be-f31d-214c4bf4bccf"
      },
      "execution_count": 25,
      "outputs": [
        {
          "output_type": "stream",
          "name": "stdout",
          "text": [
            "IS IT CAR AGE BELOW 10 YRS =YES\n",
            "IS IT single owner =YES\n",
            "IS IT Diesel =YES\n",
            "IS IT Petrol =NO\n",
            "IS IT Dealer =NO\n",
            "IS IT Individual =NO\n",
            "IS IT Automatic =YES\n",
            "IS IT Manual =NO\n",
            "Enter Km driven =133251\n",
            "Predict.ed selling price = [8079780.87473488]\n"
          ]
        }
      ]
    },
    {
      "cell_type": "code",
      "source": [
        "model = pickle.load(open('model.pkl', 'rb'))\n",
        "prediction = model.predict(input_data)\n",
        "result = prediction[0]\n",
        "Global=result*(data['selling price'].max()-data['selling price'].min())+100*(data['selling price'].min())\n",
        "print('SELLING PRICE = ',Global)"
      ],
      "metadata": {
        "id": "zkOoRCVkztHU",
        "colab": {
          "base_uri": "https://localhost:8080/"
        },
        "outputId": "af5aba63-a641-45ff-e313-33b9856c870b"
      },
      "execution_count": 26,
      "outputs": [
        {
          "output_type": "stream",
          "name": "stdout",
          "text": [
            "SELLING PRICE =  8079780.874734878\n"
          ]
        }
      ]
    },
    {
      "cell_type": "markdown",
      "source": [
        "**THANK YOU**"
      ],
      "metadata": {
        "id": "LMd_OeTVHUAj"
      }
    }
  ]
}